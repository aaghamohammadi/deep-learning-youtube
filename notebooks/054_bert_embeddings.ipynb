{
  "nbformat": 4,
  "nbformat_minor": 0,
  "metadata": {
    "colab": {
      "provenance": []
    },
    "kernelspec": {
      "name": "python3",
      "display_name": "Python 3"
    },
    "language_info": {
      "name": "python"
    }
  },
  "cells": [
    {
      "cell_type": "code",
      "execution_count": null,
      "metadata": {
        "id": "CK5ps7du8A65"
      },
      "outputs": [],
      "source": [
        "import tensorflow_hub as hub"
      ]
    },
    {
      "cell_type": "code",
      "source": [
        "!pip install tensorflow_text\n",
        "import tensorflow_text as text  # Registers the ops."
      ],
      "metadata": {
        "id": "8xkPtDBa8bLp"
      },
      "execution_count": null,
      "outputs": []
    },
    {
      "cell_type": "code",
      "source": [
        "preprocess_url = \"https://kaggle.com/models/tensorflow/bert/TensorFlow2/en-uncased-preprocess/3\"\n",
        "encoder_url = \"https://www.kaggle.com/models/tensorflow/bert/TensorFlow2/bert-en-uncased-l-12-h-768-a-12/2\""
      ],
      "metadata": {
        "id": "wCHb8qb08y-s"
      },
      "execution_count": null,
      "outputs": []
    },
    {
      "cell_type": "code",
      "source": [
        "preprocessor = hub.KerasLayer(preprocess_url)\n",
        "\n",
        "text_data = [\"I love Irvine. It is a beautiful city.\"]\n",
        "text_preprocessed = preprocessor(text_data)\n",
        "text_preprocessed.keys()"
      ],
      "metadata": {
        "id": "HP1GGwe89s11"
      },
      "execution_count": null,
      "outputs": []
    },
    {
      "cell_type": "code",
      "source": [
        "text_preprocessed[\"input_mask\"]"
      ],
      "metadata": {
        "id": "_Ritg_LI996Y"
      },
      "execution_count": null,
      "outputs": []
    },
    {
      "cell_type": "code",
      "source": [
        "text_preprocessed[\"input_word_ids\"]"
      ],
      "metadata": {
        "id": "C7heHNI6-HOH"
      },
      "execution_count": null,
      "outputs": []
    },
    {
      "cell_type": "code",
      "source": [
        "model = hub.KerasLayer(encoder_url)\n",
        "represenation_results = model(text_preprocessed)\n",
        "represenation_results.keys()"
      ],
      "metadata": {
        "id": "-zocdIEn-l9O"
      },
      "execution_count": null,
      "outputs": []
    },
    {
      "cell_type": "code",
      "source": [
        "represenation_results[\"sequence_output\"] # sequence_output represents each input token in context"
      ],
      "metadata": {
        "id": "Dem5wNzg-10g"
      },
      "execution_count": null,
      "outputs": []
    },
    {
      "cell_type": "code",
      "source": [
        "represenation_results[\"pooled_output\"] # pooled_output represents each input sequence as a whole"
      ],
      "metadata": {
        "id": "_31jHe3g_6LL"
      },
      "execution_count": null,
      "outputs": []
    },
    {
      "cell_type": "code",
      "source": [
        "len(represenation_results['encoder_outputs'])"
      ],
      "metadata": {
        "id": "67vPt5gOAGTg"
      },
      "execution_count": null,
      "outputs": []
    }
  ]
}