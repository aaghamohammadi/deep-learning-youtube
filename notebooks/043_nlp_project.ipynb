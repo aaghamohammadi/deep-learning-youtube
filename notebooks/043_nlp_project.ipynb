{
  "nbformat": 4,
  "nbformat_minor": 0,
  "metadata": {
    "colab": {
      "provenance": []
    },
    "kernelspec": {
      "name": "python3",
      "display_name": "Python 3"
    },
    "language_info": {
      "name": "python"
    }
  },
  "cells": [
    {
      "cell_type": "markdown",
      "source": [
        "We will be utilizing a dataset from Kaggle's competition, which can be found at this URL: https://www.kaggle.com/competitions/nlp-getting-started\n",
        "\n",
        "The dataset is structured as follows:\n",
        "Each entry in the training and testing sets contains the following elements:\n",
        "\n",
        "- **Text**: This is the content of the tweet.\n",
        "- **Keyword**: This is a specific keyword from the tweet, although it may not always be present.\n",
        "- **Location**: This is the geographical location from where the tweet was sent, but it might also be absent.\n",
        "\n",
        "The goal of this competition is to predict whether a given tweet is about a real disaster. If it is, you should predict a 1. If it isn't, you should predict a 0.\n",
        "\n",
        "Here are the details of each field in the dataset:\n",
        "\n",
        "- **id**: A unique identifier assigned to each tweet.\n",
        "- **text**: The actual text content of the tweet.\n",
        "- **location**: The geographical location from where the tweet was sent (this field may be blank).\n",
        "- **keyword**: A specific keyword from the tweet (this field may also be blank).\n",
        "- **target**: This field is only present in the train.csv file. It indicates whether a tweet is about a real disaster (1) or not (0)."
      ],
      "metadata": {
        "id": "Uv6ErPNbHYpY"
      }
    },
    {
      "cell_type": "code",
      "execution_count": null,
      "metadata": {
        "id": "_KbZj9I5EleM"
      },
      "outputs": [],
      "source": [
        "!unzip nlp-getting-started.zip"
      ]
    },
    {
      "cell_type": "code",
      "source": [
        "import pandas as pd\n",
        "\n",
        "train_df = pd.read_csv(\"train.csv\")\n",
        "test_df = pd.read_csv(\"test.csv\")\n",
        "\n",
        "train_df.head()"
      ],
      "metadata": {
        "id": "YTrQL56SJKqe"
      },
      "execution_count": null,
      "outputs": []
    },
    {
      "cell_type": "code",
      "source": [
        "train_df[\"text\"][0]"
      ],
      "metadata": {
        "id": "5jgi6_cHJ6P3"
      },
      "execution_count": null,
      "outputs": []
    },
    {
      "cell_type": "code",
      "source": [
        "train_df_shuffled = train_df.sample(frac=1, random_state=101)\n",
        "train_df_shuffled.head()"
      ],
      "metadata": {
        "id": "GlKDp4FaKe9r"
      },
      "execution_count": null,
      "outputs": []
    },
    {
      "cell_type": "code",
      "source": [
        "train_df.target.value_counts()"
      ],
      "metadata": {
        "id": "ZkoS0nzBKtEx"
      },
      "execution_count": null,
      "outputs": []
    },
    {
      "cell_type": "code",
      "source": [
        "test_df.head()"
      ],
      "metadata": {
        "id": "p6WI45reLoiA"
      },
      "execution_count": null,
      "outputs": []
    },
    {
      "cell_type": "code",
      "source": [
        "len(train_df), len(test_df)"
      ],
      "metadata": {
        "id": "ukkZGVcjLAQV"
      },
      "execution_count": null,
      "outputs": []
    },
    {
      "cell_type": "code",
      "source": [
        "from sklearn.model_selection import train_test_split\n",
        "\n",
        "train_tweets, val_tweets, train_labels, val_labels = train_test_split(train_df_shuffled[\"text\"].to_numpy(),\n",
        "                                                                      train_df_shuffled[\"target\"].to_numpy(),\n",
        "                                                                      test_size=0.1,\n",
        "                                                                      random_state=101)"
      ],
      "metadata": {
        "id": "aocFXsyRLlcg"
      },
      "execution_count": null,
      "outputs": []
    },
    {
      "cell_type": "code",
      "source": [
        "len(train_tweets), len(val_tweets)"
      ],
      "metadata": {
        "id": "I8tChb0hNr5Z"
      },
      "execution_count": null,
      "outputs": []
    },
    {
      "cell_type": "code",
      "source": [
        "train_tweets[:10], train_labels[:10]"
      ],
      "metadata": {
        "id": "-Wm4QBRTNz5v"
      },
      "execution_count": null,
      "outputs": []
    },
    {
      "cell_type": "code",
      "source": [
        "import tensorflow as tf\n",
        "from tensorflow.keras.layers import  TextVectorization"
      ],
      "metadata": {
        "id": "SkrZBmUOOOaw"
      },
      "execution_count": null,
      "outputs": []
    },
    {
      "cell_type": "code",
      "source": [
        "text_vectorizer = TextVectorization(max_tokens=20000,\n",
        "                                    standardize=\"lower_and_strip_punctuation\",\n",
        "                                    split=\"whitespace\",\n",
        "                                    output_mode=\"int\",\n",
        "                                    output_sequence_length=15)"
      ],
      "metadata": {
        "id": "8NV2GwpeL2kz"
      },
      "execution_count": null,
      "outputs": []
    },
    {
      "cell_type": "code",
      "source": [
        "text_vectorizer.adapt(train_tweets)"
      ],
      "metadata": {
        "id": "t9td1TrFL7bw"
      },
      "execution_count": null,
      "outputs": []
    },
    {
      "cell_type": "code",
      "source": [
        "sample_tweet = \"Just happened a terrible car crash\"\n",
        "text_vectorizer([sample_tweet])"
      ],
      "metadata": {
        "id": "5D7Ae59qL-Tp"
      },
      "execution_count": null,
      "outputs": []
    },
    {
      "cell_type": "code",
      "source": [
        "words_in_vocab = text_vectorizer.get_vocabulary()\n",
        "\n",
        "top_5_words, bottom_5_words = words_in_vocab[:5], words_in_vocab[-5:]\n",
        "\n",
        "print(len(words_in_vocab))\n",
        "print(top_5_words)\n",
        "print(bottom_5_words)"
      ],
      "metadata": {
        "id": "uT0hwQv8MB9e"
      },
      "execution_count": null,
      "outputs": []
    },
    {
      "cell_type": "code",
      "source": [
        "from tensorflow.keras import layers"
      ],
      "metadata": {
        "id": "JKB1JFiNR752"
      },
      "execution_count": null,
      "outputs": []
    },
    {
      "cell_type": "code",
      "source": [
        "embedding = layers.Embedding(input_dim=20000,\n",
        "                             output_dim=128,\n",
        "                             input_length=15)"
      ],
      "metadata": {
        "id": "1kv7ZgLVR_XL"
      },
      "execution_count": null,
      "outputs": []
    },
    {
      "cell_type": "code",
      "source": [
        "sample_embed = embedding(text_vectorizer([sample_tweet]))\n",
        "sample_embed"
      ],
      "metadata": {
        "id": "IB0CpbX2Sknf"
      },
      "execution_count": null,
      "outputs": []
    },
    {
      "cell_type": "code",
      "source": [
        "sample_embed[0][0]"
      ],
      "metadata": {
        "id": "n9VOBMfNTWWN"
      },
      "execution_count": null,
      "outputs": []
    },
    {
      "cell_type": "code",
      "source": [
        "from tensorflow.keras import layers\n",
        "\n",
        "inputs = layers.Input(shape=(1,), dtype=tf.string)\n",
        "x = text_vectorizer(inputs)\n",
        "x = embedding(x)\n",
        "layers.Dropout(0.5),\n",
        "\n",
        "# Add multiple Conv1D layers with different kernel sizes\n",
        "x = layers.Conv1D(filters=128, kernel_size=5, strides=1, activation=\"relu\", padding=\"same\")(x)\n",
        "x = layers.MaxPooling1D(pool_size=2)(x)\n",
        "\n",
        "x = layers.Conv1D(filters=64, kernel_size=3, strides=1, activation=\"relu\", padding=\"same\")(x)\n",
        "x = layers.MaxPooling1D(pool_size=2)(x)\n",
        "\n",
        "x = layers.Conv1D(filters=32, kernel_size=3, strides=1, activation=\"relu\", padding=\"same\")(x)\n",
        "x = layers.MaxPooling1D(pool_size=2)(x)\n",
        "\n",
        "# Flatten the output from the Conv layers before feeding it into Dense layer\n",
        "x = layers.Flatten()(x)\n",
        "\n",
        "# Add Dense layers before the output\n",
        "x = layers.Dense(32, activation='relu', kernel_initializer=\"he_normal\")(x)\n",
        "x = layers.Dropout(0.5)(x)\n",
        "\n",
        "x = layers.Dense(32, activation='relu', kernel_initializer=\"he_normal\")(x)\n",
        "x = layers.Dropout(0.5)(x)\n",
        "\n",
        "outputs = layers.Dense(1, activation=\"sigmoid\")(x)\n",
        "\n",
        "model = tf.keras.Model(inputs, outputs, name=\"model_multi_conv1d\")\n",
        "\n",
        "model.compile(loss=\"binary_crossentropy\",\n",
        "              optimizer=tf.keras.optimizers.Adam(),\n",
        "              metrics=[\"accuracy\"])\n",
        "\n",
        "model.summary()"
      ],
      "metadata": {
        "id": "a32k4Hr4TeRO"
      },
      "execution_count": null,
      "outputs": []
    },
    {
      "cell_type": "code",
      "source": [
        "model_history = model.fit(train_tweets,\n",
        "                          train_labels,\n",
        "                          epochs=10,\n",
        "                          validation_data=(val_tweets, val_labels))"
      ],
      "metadata": {
        "id": "JqdU5rXw1TA1"
      },
      "execution_count": null,
      "outputs": []
    }
  ]
}