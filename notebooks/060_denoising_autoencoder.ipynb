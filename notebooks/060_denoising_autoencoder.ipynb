{
  "nbformat": 4,
  "nbformat_minor": 0,
  "metadata": {
    "colab": {
      "provenance": []
    },
    "kernelspec": {
      "name": "python3",
      "display_name": "Python 3"
    },
    "language_info": {
      "name": "python"
    }
  },
  "cells": [
    {
      "cell_type": "code",
      "execution_count": null,
      "metadata": {
        "id": "RgcQ1Xo2T30n"
      },
      "outputs": [],
      "source": [
        "from tensorflow.keras.datasets import mnist\n",
        "\n",
        "(X_train, y_train), (X_test, y_test) = mnist.load_data()"
      ]
    },
    {
      "cell_type": "code",
      "source": [
        "assert X_train.shape == (60000, 28, 28)\n",
        "assert y_train.shape == (60000,)\n",
        "assert X_test.shape == (10000, 28, 28)\n",
        "assert y_test.shape == (10000,)"
      ],
      "metadata": {
        "id": "i32XDv7nUJIp"
      },
      "execution_count": null,
      "outputs": []
    },
    {
      "cell_type": "code",
      "source": [
        "X_train[0]"
      ],
      "metadata": {
        "id": "iV5a7j9bUhk-"
      },
      "execution_count": null,
      "outputs": []
    },
    {
      "cell_type": "code",
      "source": [
        "norm_X_train = ((X_train - 128.0)/128.0)"
      ],
      "metadata": {
        "id": "CHK8KdOzUoLc"
      },
      "execution_count": null,
      "outputs": []
    },
    {
      "cell_type": "code",
      "source": [
        "norm_X_train.shape"
      ],
      "metadata": {
        "id": "MFzftPM5VAzd"
      },
      "execution_count": null,
      "outputs": []
    },
    {
      "cell_type": "code",
      "source": [
        "norm_X_train[0]"
      ],
      "metadata": {
        "id": "Y66RxAh0VCU9"
      },
      "execution_count": null,
      "outputs": []
    },
    {
      "cell_type": "code",
      "source": [
        "import matplotlib.pyplot as plt\n",
        "\n",
        "def plot_normalized_image(image):\n",
        "    plt.imshow(image, cmap='gray')\n",
        "    plt.show()\n",
        "\n",
        "\n",
        "plot_normalized_image(norm_X_train[0])"
      ],
      "metadata": {
        "id": "cKiaA1oArRUI"
      },
      "execution_count": null,
      "outputs": []
    },
    {
      "cell_type": "code",
      "source": [
        "import numpy as np\n",
        "\n",
        "seed = 42\n",
        "np.random.seed(seed)\n",
        "\n",
        "def generate_masked_inputs(x, p):\n",
        "  mask = np.random.binomial(n=1, p=p, size=x.shape).astype(\"float32\")\n",
        "  return x*mask\n",
        "\n",
        "masked_X_train = generate_masked_inputs(norm_X_train, 0.5)"
      ],
      "metadata": {
        "id": "x0PFM5EAVEjd"
      },
      "execution_count": null,
      "outputs": []
    },
    {
      "cell_type": "code",
      "source": [
        "plot_normalized_image(masked_X_train[0])"
      ],
      "metadata": {
        "id": "zQrjncqgrgyQ"
      },
      "execution_count": null,
      "outputs": []
    },
    {
      "cell_type": "code",
      "source": [
        "from tensorflow.keras import layers, models\n",
        "\n",
        "autoencoder = models.Sequential(\n",
        "    [layers.Input(shape=(28,28)),\n",
        "     layers.Flatten(),\n",
        "     layers.Dense(64, activation=\"relu\", kernel_initializer=\"he_normal\"),\n",
        "     layers.Dense(32, activation=\"relu\", kernel_initializer=\"he_normal\"),\n",
        "     layers.Dense(64, activation=\"relu\", kernel_initializer=\"he_normal\"),\n",
        "     layers.Dense(784, activation=\"tanh\"),\n",
        "     layers.Reshape((28,28))]\n",
        ")\n",
        "\n",
        "autoencoder.compile(loss=\"mse\", optimizer=\"adam\")\n",
        "autoencoder.summary()"
      ],
      "metadata": {
        "id": "30eENRgeVyTc"
      },
      "execution_count": null,
      "outputs": []
    },
    {
      "cell_type": "code",
      "source": [
        "history = autoencoder.fit(masked_X_train, norm_X_train, batch_size=64, epochs=20)"
      ],
      "metadata": {
        "id": "U-BwBntFW_5d"
      },
      "execution_count": null,
      "outputs": []
    },
    {
      "cell_type": "code",
      "source": [
        "X_test_sample = X_test[:10]\n",
        "y_test_sample = y_test[:10]\n",
        "\n",
        "norm_X_test_sample = ((X_test_sample - 128.0)/128.0)\n",
        "masked_norm_X_test_sample = generate_masked_inputs(norm_X_test_sample, 0.5)\n",
        "\n",
        "y_pred_sample = autoencoder.predict(masked_norm_X_test_sample)"
      ],
      "metadata": {
        "id": "DJALweNmXrc9"
      },
      "execution_count": null,
      "outputs": []
    },
    {
      "cell_type": "code",
      "source": [
        "y_test_sample[5]"
      ],
      "metadata": {
        "id": "Q6UH3qyrsFtG"
      },
      "execution_count": null,
      "outputs": []
    },
    {
      "cell_type": "code",
      "source": [
        "plot_normalized_image(masked_norm_X_test_sample[5])"
      ],
      "metadata": {
        "id": "9SdK5skVbK8N"
      },
      "execution_count": null,
      "outputs": []
    },
    {
      "cell_type": "code",
      "source": [
        "plot_normalized_image(y_pred_sample[5])"
      ],
      "metadata": {
        "id": "CL1gIr2ysIKG"
      },
      "execution_count": null,
      "outputs": []
    }
  ]
}