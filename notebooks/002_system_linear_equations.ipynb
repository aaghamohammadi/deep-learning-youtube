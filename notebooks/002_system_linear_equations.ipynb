{
  "nbformat": 4,
  "nbformat_minor": 0,
  "metadata": {
    "colab": {
      "provenance": []
    },
    "kernelspec": {
      "name": "python3",
      "display_name": "Python 3"
    },
    "language_info": {
      "name": "python"
    }
  },
  "cells": [
    {
      "cell_type": "markdown",
      "source": [
        "Let's see how a matrix can emerge as a result of a system of linear equations.\n",
        "\n",
        "Suppose we have these two equations:\n",
        "\n",
        "$$4x_1 + 4x_2 = 5$$\n",
        "$$2x_1 - 4x_2 = 1$$\n",
        "\n",
        "We can express these in vector form as follows:\n",
        "\n",
        "$$\n",
        "\\begin{equation}\n",
        "\\begin{bmatrix} 4 \\\\ 2 \\end{bmatrix} x_1 +\n",
        "\\begin{bmatrix} 4 \\\\ -4 \\end{bmatrix} x_2 =\n",
        "\\begin{bmatrix} 5 \\\\ 1 \\end{bmatrix}\n",
        "\\end{equation}\n",
        "$$\n",
        "\n",
        "If we collect the vectors into a matrix, we get:\n",
        "\n",
        "$$\n",
        "\\begin{equation}\n",
        "\\begin{bmatrix}\n",
        "4 & 4 \\\\\n",
        "2 & -4\n",
        "\\end{bmatrix}\n",
        "\\begin{bmatrix}\n",
        "x_1 \\\\\n",
        "x_2 \\\\\n",
        "\\end{bmatrix}\n",
        "=\n",
        "\\begin{bmatrix}\n",
        "5 \\\\\n",
        "1 \\\\\n",
        "\\end{bmatrix}\n",
        "\\end{equation}\n",
        "$$\n",
        "\n"
      ],
      "metadata": {
        "id": "HEy2YUbiLhum"
      }
    },
    {
      "cell_type": "code",
      "source": [
        "import tensorflow as tf\n",
        "\n",
        "# Define constants\n",
        "A = tf.constant([[4., 4.], [2., -4.]])\n",
        "x = tf.constant([1., 0.25], shape=(2, 1))\n",
        "b = tf.constant([5., 1.], shape=(2, 1))\n",
        "\n",
        "# Calculate matrix product\n",
        "matrix_product = A @ x\n",
        "\n",
        "# Print the results with added text\n",
        "print(f\"The matrix product of A and x is:\\n{matrix_product}\")\n",
        "print(f\"The matrix product equals b:\\n{matrix_product==b}\")\n"
      ],
      "metadata": {
        "id": "-H_sMGlkTlHT",
        "colab": {
          "base_uri": "https://localhost:8080/"
        },
        "outputId": "9914fc2d-f313-43f9-be74-605c9e76c95a"
      },
      "execution_count": null,
      "outputs": [
        {
          "output_type": "stream",
          "name": "stdout",
          "text": [
            "The matrix product of A and x is:\n",
            "[[5.]\n",
            " [1.]]\n",
            "The matrix product equals b:\n",
            "[[ True]\n",
            " [ True]]\n"
          ]
        }
      ]
    },
    {
      "cell_type": "markdown",
      "source": [
        "In general, system of linear equations can be written as follows:\n",
        "\n",
        "$$\\begin{align*}\n",
        "a_{11}x_1 + a_{12}x_2 + \\ldots + a_{1n}x_n &= b_1 \\\\\n",
        "a_{21}x_1 + a_{22}x_2 + \\ldots + a_{2n}x_n &= b_2 \\\\\n",
        "&\\vdots \\\\\n",
        "a_{m1}x_1 + a_{m2}x_2 + \\ldots + a_{mn}x_n &= b_m\n",
        "\\end{align*}\n",
        "$$\n",
        "\n",
        "From this, we can derive a matrix, or simply put, $\\mathbf{A}\\mathbf{x}=\\mathbf{b}$:\n",
        "\n",
        "$$\n",
        "\\begin{equation}\n",
        "\\begin{bmatrix} a_{11} \\\\ a_{21} \\\\ \\vdots \\\\ a_{m1} \\end{bmatrix} x_1 +\n",
        "\\begin{bmatrix} a_{12} \\\\ a_{22} \\\\ \\vdots \\\\ a_{m2} \\end{bmatrix} x_2 + \\ldots +\n",
        "\\begin{bmatrix} a_{1n} \\\\ a_{2n} \\\\ \\vdots \\\\ a_{mn} \\end{bmatrix} x_n =\n",
        "\\begin{bmatrix} b_1 \\\\ b_2 \\\\ \\vdots \\\\ b_m \\end{bmatrix}\n",
        "\\end{equation}\n",
        "$$\n",
        "\n",
        "$$\n",
        "\\begin{equation}\n",
        "\\begin{bmatrix}\n",
        "a_{11} & a_{12} & \\cdots & a_{1n} \\\\\n",
        "a_{21} & a_{22} & \\cdots & a_{2n} \\\\\n",
        "\\vdots & \\vdots & \\ddots & \\vdots \\\\\n",
        "a_{m1} & a_{m2} & \\cdots & a_{mn}\n",
        "\\end{bmatrix}\n",
        "\\begin{bmatrix}\n",
        "x_1 \\\\\n",
        "x_2 \\\\\n",
        "\\vdots \\\\\n",
        "x_n\n",
        "\\end{bmatrix}\n",
        "=\n",
        "\\begin{bmatrix}\n",
        "b_1 \\\\\n",
        "b_2 \\\\\n",
        "\\vdots \\\\\n",
        "b_m\n",
        "\\end{bmatrix}\n",
        "\\end{equation}\n",
        "$$"
      ],
      "metadata": {
        "id": "BRqvoOVETkQ5"
      }
    }
  ]
}