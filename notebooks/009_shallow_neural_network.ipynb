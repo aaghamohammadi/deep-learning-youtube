{
  "nbformat": 4,
  "nbformat_minor": 0,
  "metadata": {
    "colab": {
      "provenance": []
    },
    "kernelspec": {
      "name": "python3",
      "display_name": "Python 3"
    },
    "language_info": {
      "name": "python"
    }
  },
  "cells": [
    {
      "cell_type": "code",
      "execution_count": null,
      "metadata": {
        "id": "eLt38oIA9xFe"
      },
      "outputs": [],
      "source": [
        "import tensorflow as tf\n",
        "import matplotlib.pyplot as plt\n",
        "\n",
        "# Set the seed for reproducibility\n",
        "tf.random.set_seed(0)\n",
        "\n",
        "# Generate 100 random numbers between 0 and 10\n",
        "x = 10 * tf.random.uniform(shape=(100,))\n",
        "\n",
        "# Calculate y based on the formula with some noise added\n",
        "y = 0.5 * tf.math.sin(x) + 0.01 * tf.random.normal(shape=(100,))\n",
        "\n",
        "plt.figure(figsize=(10, 7))\n",
        "\n",
        "# Create a scatter plot of the generated points with red color\n",
        "plt.scatter(x, y, color='red')\n",
        "\n",
        "# Set the labels of the plot\n",
        "plt.xlabel('Input, x')\n",
        "plt.ylabel('Output, y')\n",
        "\n",
        "# Show the plot\n",
        "plt.show()"
      ]
    },
    {
      "cell_type": "code",
      "source": [
        "import tensorflow as tf\n",
        "\n",
        "# model\n",
        "model = tf.keras.models.Sequential(\n",
        "    [\n",
        "        tf.keras.layers.Dense(50000, activation=\"relu\", input_shape=(1,)),\n",
        "        tf.keras.layers.Dense(1)\n",
        "    ]\n",
        ")\n",
        "\n",
        "# compile\n",
        "model.compile(optimizer=tf.keras.optimizers.Adam(), loss=tf.keras.losses.mse)\n",
        "\n",
        "# fit\n",
        "model.fit(x, y, epochs=1000)"
      ],
      "metadata": {
        "id": "wxh7JHHPAbmk"
      },
      "execution_count": null,
      "outputs": []
    },
    {
      "cell_type": "code",
      "source": [
        "def plot_predictions(model, x, y):\n",
        "    # Predict y values\n",
        "    y_pred = model.predict(x)\n",
        "\n",
        "    # Sort x and y_pred for line plot\n",
        "    sorted_zip = sorted(zip(x, y_pred), key=lambda x: x[0])\n",
        "    x_sorted, y_pred_sorted = zip(*sorted_zip)\n",
        "\n",
        "    plt.figure(figsize=(10, 7))\n",
        "\n",
        "    # Create a scatter plot of the actual points with red color\n",
        "    plt.scatter(x, y, color='red')\n",
        "\n",
        "    # Plot the predicted values with blue color\n",
        "    plt.plot(x_sorted, y_pred_sorted, color='blue', linewidth=3)\n",
        "\n",
        "    # Set the labels of the plot\n",
        "    plt.xlabel('Input, x')\n",
        "    plt.ylabel('Output, y')\n",
        "\n",
        "    # Show the plot\n",
        "    plt.show()\n",
        "\n",
        "plot_predictions(model, x, y)"
      ],
      "metadata": {
        "id": "pfvAycfxDmUf"
      },
      "execution_count": null,
      "outputs": []
    },
    {
      "cell_type": "code",
      "source": [
        "model.summary()"
      ],
      "metadata": {
        "id": "220JcLEwIsvK"
      },
      "execution_count": null,
      "outputs": []
    },
    {
      "cell_type": "markdown",
      "source": [
        "The output is formed by combining the hidden units:\n",
        "\n",
        "$$y = \\phi_0 + \\phi_1 h_1 + \\phi_2 h_2 + \\cdots + \\phi_{n} h_n$$\n",
        "\n",
        "where each $h_i$ is defined as follows:\n",
        "\n",
        "$$h_i = \\text{ReLU}\\left[\\theta_{i0} + \\theta_{i1} x\\right]$$"
      ],
      "metadata": {
        "id": "RuN4i4nFLggo"
      }
    }
  ]
}