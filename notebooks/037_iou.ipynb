{
  "nbformat": 4,
  "nbformat_minor": 0,
  "metadata": {
    "colab": {
      "provenance": []
    },
    "kernelspec": {
      "name": "python3",
      "display_name": "Python 3"
    },
    "language_info": {
      "name": "python"
    }
  },
  "cells": [
    {
      "cell_type": "code",
      "source": [
        "from IPython.display import Image\n",
        "\n",
        "Image(filename='images/iou.png', width=1000)"
      ],
      "metadata": {
        "id": "tybsmm8_xPAm"
      },
      "execution_count": null,
      "outputs": []
    },
    {
      "cell_type": "code",
      "execution_count": null,
      "metadata": {
        "id": "5pWmu16XmfqE"
      },
      "outputs": [],
      "source": [
        "import tensorflow as tf\n",
        "\n",
        "def intersection_over_union(boxes_preds, boxes_labels):\n",
        "  box1_x1 = boxes_preds[..., 0:1]\n",
        "  box1_y1 = boxes_preds[..., 1:2]\n",
        "  box1_x2 = boxes_preds[..., 2:3]\n",
        "  box1_y2 = boxes_preds[..., 3:4]\n",
        "\n",
        "  box2_x1 = boxes_labels[..., 0:1]\n",
        "  box2_y1 = boxes_labels[..., 1:2]\n",
        "  box2_x2 = boxes_labels[..., 2:3]\n",
        "  box2_y2 = boxes_labels[..., 3:4]\n",
        "\n",
        "  x1 = tf.maximum(box1_x1, box2_x1)\n",
        "  y1 = tf.maximum(box1_y1, box2_y1)\n",
        "  x2 = tf.minimum(box1_x2, box2_x2)\n",
        "  y2 = tf.minimum(box1_y2, box2_y2)\n",
        "\n",
        "  intersection = tf.maximum(x2 - x1, 0) * tf.maximum(y2 - y1, 0)\n",
        "\n",
        "  box1_area = tf.abs((box1_x2 - box1_x1) * (box1_y2 - box1_y1))\n",
        "  box2_area = tf.abs((box2_x2 - box2_x1) * (box2_y2 - box2_y1))\n",
        "\n",
        "  return intersection / (box1_area + box2_area - intersection)\n"
      ]
    },
    {
      "cell_type": "code",
      "source": [
        "tf.constant([[[1, 3, 2, 5], [4, 5, 7, 9]]])[..., 3:4]"
      ],
      "metadata": {
        "id": "x6FxNZcVrZw6"
      },
      "execution_count": null,
      "outputs": []
    }
  ]
}