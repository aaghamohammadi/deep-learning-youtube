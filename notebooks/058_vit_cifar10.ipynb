{
  "nbformat": 4,
  "nbformat_minor": 0,
  "metadata": {
    "colab": {
      "provenance": [],
      "gpuType": "T4"
    },
    "kernelspec": {
      "name": "python3",
      "display_name": "Python 3"
    },
    "language_info": {
      "name": "python"
    },
    "accelerator": "GPU"
  },
  "cells": [
    {
      "cell_type": "code",
      "execution_count": null,
      "metadata": {
        "id": "M75V6bfrR6aF"
      },
      "outputs": [],
      "source": [
        "!pip install -q transformers datasets evaluate"
      ]
    },
    {
      "cell_type": "code",
      "source": [
        "from datasets import load_dataset\n",
        "\n",
        "train_ds, test_ds = load_dataset(\"cifar10\", split=[\"train[:5000]\", \"test[:2000]\"])"
      ],
      "metadata": {
        "id": "EnHUtxPJSyVJ"
      },
      "execution_count": null,
      "outputs": []
    },
    {
      "cell_type": "code",
      "source": [
        "train_ds"
      ],
      "metadata": {
        "id": "1Krob_1STMTo"
      },
      "execution_count": null,
      "outputs": []
    },
    {
      "cell_type": "code",
      "source": [
        "train_ds.features"
      ],
      "metadata": {
        "id": "5Q7g9DN9Tejr"
      },
      "execution_count": null,
      "outputs": []
    },
    {
      "cell_type": "code",
      "source": [
        "train_ds[0][\"img\"]"
      ],
      "metadata": {
        "id": "-4fdWqBfTODx"
      },
      "execution_count": null,
      "outputs": []
    },
    {
      "cell_type": "code",
      "source": [
        "train_ds[0][\"label\"]"
      ],
      "metadata": {
        "id": "qUk20kUUTSxX"
      },
      "execution_count": null,
      "outputs": []
    },
    {
      "cell_type": "code",
      "source": [
        "id2label = {id:label for id, label in enumerate(train_ds.features[\"label\"].names)}\n",
        "label2id = {label:id for id, label in id2label.items()}"
      ],
      "metadata": {
        "id": "-fxgbgD2TVwg"
      },
      "execution_count": null,
      "outputs": []
    },
    {
      "cell_type": "code",
      "source": [
        "id2label, label2id"
      ],
      "metadata": {
        "id": "1nT8XapyTx-J"
      },
      "execution_count": null,
      "outputs": []
    },
    {
      "cell_type": "code",
      "source": [
        "id2label[train_ds[0][\"label\"]]"
      ],
      "metadata": {
        "id": "4RtqcI_ITzpg"
      },
      "execution_count": null,
      "outputs": []
    },
    {
      "cell_type": "code",
      "source": [
        "from transformers import ViTImageProcessor\n",
        "import numpy as np\n",
        "\n",
        "\n",
        "processor = ViTImageProcessor.from_pretrained(\"google/vit-base-patch16-224-in21k\")\n",
        "\n",
        "def preprocess_images(data):\n",
        "  images = data[\"img\"]\n",
        "  inputs = processor(images=images, return_tensors=\"tf\")\n",
        "  data[\"pixel_values\"] = inputs[\"pixel_values\"]\n",
        "  return data\n",
        "\n",
        "train_ds = train_ds.map(preprocess_images, batched=True)\n",
        "test_ds = test_ds.map(preprocess_images, batched=True)"
      ],
      "metadata": {
        "id": "obXHVRmWT6m4"
      },
      "execution_count": null,
      "outputs": []
    },
    {
      "cell_type": "code",
      "source": [
        "processor(train_ds[:10]['img'])[\"pixel_values\"][0].shape"
      ],
      "metadata": {
        "id": "WPPVFtohewpv"
      },
      "execution_count": null,
      "outputs": []
    },
    {
      "cell_type": "code",
      "source": [
        "from transformers import TFViTForImageClassification\n",
        "\n",
        "model = TFViTForImageClassification.from_pretrained('google/vit-base-patch16-224-in21k',\n",
        "                                                    id2label=id2label,\n",
        "                                                    label2id=label2id,\n",
        "                                                    num_labels=len(id2label))"
      ],
      "metadata": {
        "id": "Xfn3U4hhfPGo"
      },
      "execution_count": null,
      "outputs": []
    },
    {
      "cell_type": "code",
      "source": [
        "model.summary()"
      ],
      "metadata": {
        "id": "ksCs2VhDh-Mz"
      },
      "execution_count": null,
      "outputs": []
    },
    {
      "cell_type": "code",
      "source": [
        "from transformers import create_optimizer\n",
        "\n",
        "batch_size = 16\n",
        "num_epochs = 5\n",
        "steps_per_epoch = len(train_ds) // batch_size\n",
        "total_train_steps = int(steps_per_epoch * num_epochs)\n",
        "optimizer, schedule = create_optimizer(init_lr=2e-5, num_warmup_steps=0, num_train_steps=total_train_steps)"
      ],
      "metadata": {
        "id": "NOYonxEZh_MD"
      },
      "execution_count": null,
      "outputs": []
    },
    {
      "cell_type": "code",
      "source": [
        "from transformers import default_data_collator\n",
        "\n",
        "train_dataset = model.prepare_tf_dataset(\n",
        "    train_ds,\n",
        "    shuffle=True,\n",
        "    batch_size=32,\n",
        "    collate_fn=default_data_collator,\n",
        ")\n",
        "\n",
        "test_dataset = model.prepare_tf_dataset(\n",
        "    test_ds,\n",
        "    shuffle=False,\n",
        "    batch_size=32,\n",
        "    collate_fn=default_data_collator,\n",
        ")"
      ],
      "metadata": {
        "id": "bt0BmC4JjOGG"
      },
      "execution_count": null,
      "outputs": []
    },
    {
      "cell_type": "code",
      "source": [
        "model.compile(optimizer=optimizer)"
      ],
      "metadata": {
        "id": "9cULvhAAjyaO"
      },
      "execution_count": null,
      "outputs": []
    },
    {
      "cell_type": "code",
      "source": [
        "import evaluate\n",
        "import numpy as np\n",
        "\n",
        "accuracy = evaluate.load(\"accuracy\")\n",
        "\n",
        "def compute_metrics(eval_pred):\n",
        "  predictions, labels = eval_pred\n",
        "  predictions = np.argmax(predictions, axis=1)\n",
        "  return accuracy.compute(predictions=predictions, references=labels)"
      ],
      "metadata": {
        "id": "I0o_-IY1lRFP"
      },
      "execution_count": null,
      "outputs": []
    },
    {
      "cell_type": "code",
      "source": [
        "from transformers.keras_callbacks import KerasMetricCallback\n",
        "\n",
        "metric_callback = KerasMetricCallback(metric_fn=compute_metrics, eval_dataset=test_dataset)"
      ],
      "metadata": {
        "id": "wYKfN-pBleoF"
      },
      "execution_count": null,
      "outputs": []
    },
    {
      "cell_type": "code",
      "source": [
        "model.fit(x=train_dataset, validation_data=test_dataset, epochs=num_epochs, callbacks=[metric_callback])"
      ],
      "metadata": {
        "id": "OTQe6_-6lld_"
      },
      "execution_count": null,
      "outputs": []
    }
  ]
}