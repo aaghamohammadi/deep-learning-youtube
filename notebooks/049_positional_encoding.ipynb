{
  "nbformat": 4,
  "nbformat_minor": 0,
  "metadata": {
    "colab": {
      "provenance": []
    },
    "kernelspec": {
      "name": "python3",
      "display_name": "Python 3"
    },
    "language_info": {
      "name": "python"
    }
  },
  "cells": [
    {
      "cell_type": "code",
      "execution_count": null,
      "metadata": {
        "id": "XMFglZMkNEec"
      },
      "outputs": [],
      "source": [
        "import tensorflow as tf\n",
        "\n",
        "def positional_encoding(dimension, sequence_length):\n",
        "    even_i = tf.range(0, dimension, 2, dtype=tf.float32)\n",
        "    denominator = tf.pow(10000, even_i / dimension)\n",
        "    position = tf.range(sequence_length, dtype=tf.float32)[:, tf.newaxis]\n",
        "    even_PE = tf.sin(position / denominator)\n",
        "    odd_PE = tf.cos(position / denominator)\n",
        "    stacked = tf.stack([even_PE, odd_PE], axis=2)\n",
        "    PE = tf.reshape(stacked, (sequence_length, dimension))\n",
        "    return PE\n",
        "\n",
        "dimension = 6\n",
        "sequence_length = 10\n",
        "positional_encoding = positional_encoding(dimension, sequence_length)\n",
        "print(positional_encoding)"
      ]
    }
  ]
}