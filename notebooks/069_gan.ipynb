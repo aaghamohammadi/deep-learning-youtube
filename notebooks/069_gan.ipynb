{
 "cells": [
  {
   "cell_type": "markdown",
   "metadata": {
    "id": "IovT3RP6cfKw",
    "jp-MarkdownHeadingCollapsed": true
   },
   "source": [
    "# Exploring Data"
   ]
  },
  {
   "cell_type": "code",
   "execution_count": null,
   "metadata": {
    "id": "AMJhvpiqcVoj"
   },
   "outputs": [],
   "source": [
    "import tensorflow as tf\n",
    "from tensorflow.keras.datasets import mnist"
   ]
  },
  {
   "cell_type": "code",
   "execution_count": null,
   "metadata": {
    "colab": {
     "base_uri": "https://localhost:8080/"
    },
    "id": "cjCx1gMkc_A6",
    "outputId": "6a70e005-2201-4341-d21f-f0994ad59f02"
   },
   "outputs": [],
   "source": [
    "(x_train, y_train), (x_test, y_test) = mnist.load_data()\n",
    "\n",
    "image_width = x_train.shape[1]\n",
    "image_height = x_train.shape[2]\n",
    "num_channels = 1\n",
    "\n",
    "x_train = x_train.astype('float32')\n",
    "x_train = x_train.reshape(x_train.shape[0], image_height, image_width, num_channels)"
   ]
  },
  {
   "cell_type": "code",
   "execution_count": null,
   "metadata": {
    "colab": {
     "base_uri": "https://localhost:8080/",
     "height": 406
    },
    "id": "M8_zDM66dHTl",
    "outputId": "5c3b7ab5-545a-4e4c-839a-578d3ec47af4"
   },
   "outputs": [],
   "source": [
    "import matplotlib.pyplot as plt\n",
    "import numpy as np\n",
    "\n",
    "def plot_random_sample_images(x_train, n=5):\n",
    "    random_indexes = np.random.choice(len(x_train), n**2, replace=False)\n",
    "\n",
    "    for i, idx in enumerate(random_indexes):\n",
    "        plt.subplot(n, n, i + 1)\n",
    "        plt.axis(\"off\")\n",
    "        plt.imshow(x_train[idx])\n",
    "    plt.show()\n",
    "\n",
    "plot_random_sample_images(x_train)"
   ]
  },
  {
   "cell_type": "markdown",
   "metadata": {
    "id": "HYGat5KMfBg-",
    "jp-MarkdownHeadingCollapsed": true
   },
   "source": [
    "# Exploring the New Activation Function: Leaky ReLU"
   ]
  },
  {
   "cell_type": "code",
   "execution_count": null,
   "metadata": {
    "colab": {
     "base_uri": "https://localhost:8080/",
     "height": 927
    },
    "id": "62sPPAGDdNrp",
    "outputId": "6fc100d1-a8b6-4023-be48-44b3815339ac"
   },
   "outputs": [],
   "source": [
    "def plot_leaky_relu(negative_slope=0.2):\n",
    "    x = np.linspace(-10, 10, 400)\n",
    "\n",
    "    leaky_relu = tf.keras.layers.LeakyReLU(alpha=negative_slope)\n",
    "\n",
    "    y = leaky_relu(x).numpy()\n",
    "\n",
    "    plt.plot(x, y, label=f'Leaky ReLU (alpha={negative_slope})')\n",
    "    plt.title('Leaky ReLU Activation Function')\n",
    "    plt.xlabel('Input')\n",
    "    plt.ylabel('Output')\n",
    "    plt.legend()\n",
    "    plt.grid(True)\n",
    "    plt.show()\n",
    "\n",
    "plot_leaky_relu(negative_slope=0.2)\n",
    "plot_leaky_relu(negative_slope=0.1)"
   ]
  },
  {
   "cell_type": "markdown",
   "metadata": {
    "id": "hoqcjYW3giqc",
    "jp-MarkdownHeadingCollapsed": true
   },
   "source": [
    "# Building Discriminator"
   ]
  },
  {
   "cell_type": "code",
   "execution_count": null,
   "metadata": {
    "id": "875N-JX7glPA"
   },
   "outputs": [],
   "source": [
    "def build_discriminator(img_shape=(image_width, image_height, num_channels)):\n",
    "  model = tf.keras.models.Sequential()\n",
    "\n",
    "  model.add(tf.keras.layers.Input(shape=img_shape))\n",
    "  model.add(tf.keras.layers.Conv2D(filters=128, kernel_size=(3,3), strides=(2,2), padding=\"same\"))\n",
    "  model.add(tf.keras.layers.LeakyReLU(alpha=0.2))\n",
    "\n",
    "  model.add(tf.keras.layers.Conv2D(filters=128, kernel_size=(3,3), strides=(2,2), padding=\"same\"))\n",
    "  model.add(tf.keras.layers.LeakyReLU(alpha=0.2))\n",
    "\n",
    "  model.add(tf.keras.layers.Flatten())\n",
    "  model.add(tf.keras.layers.Dropout(rate=0.4))\n",
    "  model.add(tf.keras.layers.Dense(units=1))\n",
    "\n",
    "  return model"
   ]
  },
  {
   "cell_type": "markdown",
   "metadata": {
    "id": "88nc3A2biM5S",
    "jp-MarkdownHeadingCollapsed": true
   },
   "source": [
    "# Building Generator"
   ]
  },
  {
   "cell_type": "code",
   "execution_count": null,
   "metadata": {
    "id": "9rBFTlOBiPYa"
   },
   "outputs": [],
   "source": [
    "def build_generator(latent_dim=100):\n",
    "  model = tf.keras.models.Sequential()\n",
    "\n",
    "  model.add(tf.keras.layers.Input(shape=(latent_dim,)))\n",
    "  model.add(tf.keras.layers.Dense(units=7*7*128))\n",
    "  model.add(tf.keras.layers.LeakyReLU(alpha=0.2))\n",
    "  model.add(tf.keras.layers.Reshape(target_shape=(7, 7, 128)))\n",
    "\n",
    "  model.add(tf.keras.layers.Conv2DTranspose(filters=128, kernel_size=(3,3), strides=(2,2), padding=\"same\"))\n",
    "  model.add(tf.keras.layers.LeakyReLU(alpha=0.2))\n",
    "\n",
    "\n",
    "  model.add(tf.keras.layers.Conv2DTranspose(filters=128, kernel_size=(3,3), strides=(2,2), padding=\"same\"))\n",
    "  model.add(tf.keras.layers.LeakyReLU(alpha=0.2))\n",
    "\n",
    "  model.add(tf.keras.layers.Conv2D(filters=1, kernel_size=(7,7), padding=\"same\", activation=\"tanh\"))\n",
    "\n",
    "  return model"
   ]
  },
  {
   "cell_type": "markdown",
   "metadata": {
    "id": "411d-qHHpI-L",
    "jp-MarkdownHeadingCollapsed": true
   },
   "source": [
    "# Training GAN"
   ]
  },
  {
   "cell_type": "code",
   "execution_count": null,
   "metadata": {
    "id": "JtEASHHww-KM"
   },
   "outputs": [],
   "source": [
    "import tensorflow as tf\n",
    "import matplotlib.pyplot as plt\n",
    "import os\n",
    "import time\n",
    "from IPython import display"
   ]
  },
  {
   "cell_type": "code",
   "execution_count": null,
   "metadata": {
    "id": "B33lE8b5xQQs"
   },
   "outputs": [],
   "source": [
    "generator = build_generator()\n",
    "discriminator = build_discriminator()"
   ]
  },
  {
   "cell_type": "code",
   "execution_count": null,
   "metadata": {
    "id": "bIQT_7aMvrru"
   },
   "outputs": [],
   "source": [
    "cross_entropy = tf.keras.losses.BinaryCrossentropy(from_logits=True)\n",
    "\n",
    "def discriminator_loss(real_output, fake_output):\n",
    "    real_loss = cross_entropy(tf.ones_like(real_output), real_output)\n",
    "    fake_loss = cross_entropy(tf.zeros_like(fake_output), fake_output)\n",
    "    total_loss = real_loss + fake_loss\n",
    "    return total_loss\n",
    "\n",
    "def generator_loss(fake_output):\n",
    "    return cross_entropy(tf.ones_like(fake_output), fake_output)"
   ]
  },
  {
   "cell_type": "code",
   "execution_count": null,
   "metadata": {
    "id": "a-ZKCQV2v6lx"
   },
   "outputs": [],
   "source": [
    "generator_optimizer = tf.keras.optimizers.Adam(1e-4)\n",
    "discriminator_optimizer = tf.keras.optimizers.Adam(1e-4)"
   ]
  },
  {
   "cell_type": "code",
   "execution_count": null,
   "metadata": {
    "id": "nCPrXE1swHET"
   },
   "outputs": [],
   "source": [
    "EPOCHS = 150\n",
    "noise_dim = 100\n",
    "num_examples_to_generate = 16\n",
    "seed = tf.random.normal([num_examples_to_generate, noise_dim])\n",
    "\n",
    "@tf.function\n",
    "def train_step(images):\n",
    "    noise = tf.random.normal([BATCH_SIZE, noise_dim])\n",
    "\n",
    "    with tf.GradientTape() as gen_tape, tf.GradientTape() as disc_tape:\n",
    "        generated_images = generator(noise, training=True)\n",
    "        real_output = discriminator(images, training=True)\n",
    "        fake_output = discriminator(generated_images, training=True)\n",
    "        gen_loss = generator_loss(fake_output)\n",
    "        disc_loss = discriminator_loss(real_output, fake_output)\n",
    "\n",
    "    gradients_of_generator = gen_tape.gradient(gen_loss, generator.trainable_variables)\n",
    "    gradients_of_discriminator = disc_tape.gradient(disc_loss, discriminator.trainable_variables)\n",
    "    generator_optimizer.apply_gradients(zip(gradients_of_generator, generator.trainable_variables))\n",
    "    discriminator_optimizer.apply_gradients(zip(gradients_of_discriminator, discriminator.trainable_variables))\n",
    "\n",
    "def train(dataset, epochs):\n",
    "    for epoch in range(epochs):\n",
    "        start = time.time()\n",
    "        for image_batch in dataset:\n",
    "            train_step(image_batch)\n",
    "        display.clear_output(wait=True)\n",
    "        generate_and_save_images(generator, epoch + 1, seed)\n",
    "        print(f'Time for epoch {epoch + 1} is {time.time() - start} sec')\n",
    "    display.clear_output(wait=True)\n",
    "    generate_and_save_images(generator, epochs, seed)"
   ]
  },
  {
   "cell_type": "code",
   "execution_count": null,
   "metadata": {
    "id": "GGX8ncyIwWZC"
   },
   "outputs": [],
   "source": [
    "def generate_and_save_images(model, epoch, test_input):\n",
    "    predictions = model(test_input, training=False)\n",
    "    fig = plt.figure(figsize=(4, 4))\n",
    "    for i in range(predictions.shape[0]):\n",
    "        plt.subplot(4, 4, i+1)\n",
    "        plt.imshow(predictions[i, :, :, 0] * 127.5 + 127.5, cmap='gray')\n",
    "        plt.axis('off')\n",
    "    plt.show()"
   ]
  },
  {
   "cell_type": "code",
   "execution_count": null,
   "metadata": {
    "colab": {
     "base_uri": "https://localhost:8080/",
     "height": 345
    },
    "id": "YkSZDlA5wjZ6",
    "outputId": "cdc2d8a9-bf03-476a-ce98-9c6dee604f3a"
   },
   "outputs": [],
   "source": [
    "BUFFER_SIZE = 60000\n",
    "BATCH_SIZE = 256\n",
    "x_train = (x_train - 127.5) / 127.5  # Normalize the images to [-1, 1]"
   ]
  },
  {
   "cell_type": "code",
   "execution_count": null,
   "metadata": {},
   "outputs": [],
   "source": [
    "train_dataset = tf.data.Dataset.from_tensor_slices(x_train).shuffle(BUFFER_SIZE).batch(BATCH_SIZE)\n",
    "\n",
    "train(train_dataset, EPOCHS)"
   ]
  }
 ],
 "metadata": {
  "accelerator": "GPU",
  "colab": {
   "gpuType": "T4",
   "provenance": []
  },
  "kernelspec": {
   "display_name": "Python 3 (ipykernel)",
   "language": "python",
   "name": "python3"
  },
  "language_info": {
   "codemirror_mode": {
    "name": "ipython",
    "version": 3
   },
   "file_extension": ".py",
   "mimetype": "text/x-python",
   "name": "python",
   "nbconvert_exporter": "python",
   "pygments_lexer": "ipython3",
   "version": "3.11.0rc1"
  }
 },
 "nbformat": 4,
 "nbformat_minor": 4
}
