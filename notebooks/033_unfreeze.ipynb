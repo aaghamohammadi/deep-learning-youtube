{
  "nbformat": 4,
  "nbformat_minor": 0,
  "metadata": {
    "colab": {
      "provenance": [],
      "gpuType": "T4"
    },
    "kernelspec": {
      "name": "python3",
      "display_name": "Python 3"
    },
    "language_info": {
      "name": "python"
    },
    "accelerator": "GPU"
  },
  "cells": [
    {
      "cell_type": "code",
      "source": [
        "import tensorflow as tf"
      ],
      "metadata": {
        "id": "3kfDeQjfUMII"
      },
      "execution_count": null,
      "outputs": []
    },
    {
      "cell_type": "code",
      "execution_count": null,
      "metadata": {
        "id": "lp8ZVdVKUBCa"
      },
      "outputs": [],
      "source": [
        "(X_train, y_train), (X_test, y_test) = tf.keras.datasets.cifar10.load_data()\n",
        "assert X_train.shape == (50000, 32, 32, 3)\n",
        "assert X_test.shape == (10000, 32, 32, 3)\n",
        "assert y_train.shape == (50000, 1)\n",
        "assert y_test.shape == (10000, 1)"
      ]
    },
    {
      "cell_type": "code",
      "source": [
        "def preprocess_image_input(input_images):\n",
        "  input_images = input_images.astype('float32')\n",
        "  output_ims = tf.keras.applications.xception.preprocess_input(input_images)\n",
        "  return output_ims\n",
        "\n",
        "X_train = preprocess_image_input(X_train)\n",
        "X_test = preprocess_image_input(X_test)"
      ],
      "metadata": {
        "id": "I_3eI1bfNUj-"
      },
      "execution_count": null,
      "outputs": []
    },
    {
      "cell_type": "code",
      "source": [
        "# Define the input layer\n",
        "inputs = tf.keras.layers.Input(shape=(32,32,3), name=\"input_layer\")\n",
        "\n",
        "# Resize the images to the size expected by Xception\n",
        "resize = tf.keras.layers.UpSampling2D(size=(7,7), name=\"resize_layer\")(inputs)\n",
        "\n",
        "# Load the Xception model with pre-trained ImageNet weights\n",
        "feature_extractor = tf.keras.applications.Xception(input_shape=(224, 224, 3),\n",
        "                                                   include_top=False,\n",
        "                                                   weights='imagenet'\n",
        "                                                   )(resize)\n",
        "\n",
        "# Add the classification layers\n",
        "x = tf.keras.layers.GlobalAveragePooling2D(name=\"global_avg_pool_layer\")(feature_extractor)\n",
        "x = tf.keras.layers.Flatten(name=\"flatten_layer\")(x)\n",
        "x = tf.keras.layers.Dense(1024, activation=\"relu\", name=\"dense_layer_1\", kernel_initializer=\"he_normal\")(x)\n",
        "x = tf.keras.layers.Dense(512, activation=\"relu\", name=\"dense_layer_2\", kernel_initializer=\"he_normal\")(x)\n",
        "classification_output = tf.keras.layers.Dense(10, activation=\"softmax\", name=\"output_layer\")(x)\n",
        "\n",
        "# Define the model\n",
        "model = tf.keras.Model(inputs=inputs, outputs=classification_output, name=\"my_model\")\n",
        "\n",
        "# Compile the model\n",
        "model.compile(optimizer=tf.keras.optimizers.Adam(),\n",
        "              loss=tf.keras.losses.SparseCategoricalCrossentropy(),\n",
        "              metrics=['accuracy'])\n",
        "\n",
        "# Print the model summary\n",
        "model.summary()"
      ],
      "metadata": {
        "id": "ndLANVsQUWMB"
      },
      "execution_count": null,
      "outputs": []
    },
    {
      "cell_type": "code",
      "source": [
        "# Train the model\n",
        "history = model.fit(\n",
        "    X_train, y_train, epochs=5, validation_data=(X_test,y_test))"
      ],
      "metadata": {
        "id": "8W1pkIzZNnof"
      },
      "execution_count": null,
      "outputs": []
    },
    {
      "cell_type": "code",
      "source": [
        "for layer in model.layers:\n",
        "  print(layer, layer.trainable)"
      ],
      "metadata": {
        "id": "FfWTRL-udHFA"
      },
      "execution_count": null,
      "outputs": []
    },
    {
      "cell_type": "code",
      "source": [
        "len(model.layers[2].layers)"
      ],
      "metadata": {
        "id": "EGQlxR82mtRu"
      },
      "execution_count": null,
      "outputs": []
    },
    {
      "cell_type": "code",
      "source": [
        "for layer in model.layers[2].layers[:100]:\n",
        "  layer.trainable = False # Freeze the layers"
      ],
      "metadata": {
        "id": "4-_nREjzlcpZ"
      },
      "execution_count": null,
      "outputs": []
    },
    {
      "cell_type": "code",
      "source": [
        "history = model.fit(\n",
        "    X_train, y_train, epochs=2, validation_data=(X_test,y_test))"
      ],
      "metadata": {
        "id": "E_wBt8h_mYk0"
      },
      "execution_count": null,
      "outputs": []
    }
  ]
}