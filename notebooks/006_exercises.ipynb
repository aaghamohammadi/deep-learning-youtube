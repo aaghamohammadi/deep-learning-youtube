{
 "cells": [
  {
   "cell_type": "markdown",
   "metadata": {
    "id": "r03LHaWG3g3D"
   },
   "source": [
    "**Q1.** Given the loss function\n",
    "$$\n",
    "L\\left[\\boldsymbol{\\phi}\\right] = \\sum_{i=1}^{m} (h\\left[x_i, \\boldsymbol{\\phi}\\right] - y_i)^2 = \\sum_{i=1}^{m} (\\phi_0 + \\phi_1 x_i - y_i)^2\n",
    "$$\n",
    "compute the expressions for the partial derivatives with respect to $\\phi_0$ and $\\phi_1$.\n",
    "\n",
    "**Q2.** After obtaining the expressions for the partial derivatives, set these expressions equal to zero.\n",
    "\n",
    "**Q3.** Finally, solve the resulting equations for $\\phi_0$ and $\\phi_1$ to find the minimum of the loss function in closed form.\n"
   ]
  }
 ],
 "metadata": {
  "colab": {
   "provenance": []
  },
  "kernelspec": {
   "display_name": "Python 3 (ipykernel)",
   "language": "python",
   "name": "python3"
  },
  "language_info": {
   "codemirror_mode": {
    "name": "ipython",
    "version": 3
   },
   "file_extension": ".py",
   "mimetype": "text/x-python",
   "name": "python",
   "nbconvert_exporter": "python",
   "pygments_lexer": "ipython3",
   "version": "3.10.12"
  }
 },
 "nbformat": 4,
 "nbformat_minor": 4
}
