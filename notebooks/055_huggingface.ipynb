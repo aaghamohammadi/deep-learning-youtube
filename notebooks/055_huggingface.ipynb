{
  "nbformat": 4,
  "nbformat_minor": 0,
  "metadata": {
    "colab": {
      "provenance": []
    },
    "kernelspec": {
      "name": "python3",
      "display_name": "Python 3"
    },
    "language_info": {
      "name": "python"
    }
  },
  "cells": [
    {
      "cell_type": "code",
      "source": [
        "!pip install transformers"
      ],
      "metadata": {
        "id": "T4AJX1A_bHPs"
      },
      "execution_count": null,
      "outputs": []
    },
    {
      "cell_type": "code",
      "execution_count": null,
      "metadata": {
        "id": "FFZEDhDgTLkE"
      },
      "outputs": [],
      "source": [
        "from transformers import pipeline"
      ]
    },
    {
      "cell_type": "code",
      "source": [
        "classifier = pipeline(task=\"sentiment-analysis\", model=\"distilbert/distilbert-base-uncased-finetuned-sst-2-english\")"
      ],
      "metadata": {
        "id": "u-eduROfTZ5r"
      },
      "execution_count": null,
      "outputs": []
    },
    {
      "cell_type": "code",
      "source": [
        "classifier(\"I love Dune. It is a great movie.\")"
      ],
      "metadata": {
        "id": "BI-oD6ilTltd"
      },
      "execution_count": null,
      "outputs": []
    },
    {
      "cell_type": "code",
      "source": [
        "classifier(\"The movie I watched last night was boring.\")"
      ],
      "metadata": {
        "id": "tJbmW_c0TpuK"
      },
      "execution_count": null,
      "outputs": []
    },
    {
      "cell_type": "code",
      "source": [
        "classifier(\"Rachel McAdams was in the movie About Time.\")"
      ],
      "metadata": {
        "id": "OLhOYxJITuup"
      },
      "execution_count": null,
      "outputs": []
    },
    {
      "cell_type": "code",
      "source": [
        "from transformers import pipeline\n",
        "unmasker = pipeline('fill-mask', model='bert-base-uncased')\n",
        "unmasker(\"Hello I'm a [MASK] model.\")"
      ],
      "metadata": {
        "id": "_n03H06Hbb-3"
      },
      "execution_count": null,
      "outputs": []
    },
    {
      "cell_type": "code",
      "source": [
        "from transformers import BertTokenizer, TFBertModel\n",
        "tokenizer = BertTokenizer.from_pretrained('bert-base-uncased')\n",
        "model = TFBertModel.from_pretrained(\"bert-base-uncased\")\n",
        "text = \"Replace me by any text you'd like.\"\n",
        "encoded_input = tokenizer(text, return_tensors='tf')\n",
        "output = model(encoded_input)"
      ],
      "metadata": {
        "id": "vY3mTP2GbpOX"
      },
      "execution_count": null,
      "outputs": []
    },
    {
      "cell_type": "code",
      "source": [
        "print(output)"
      ],
      "metadata": {
        "id": "rlrsIuxBb_p7"
      },
      "execution_count": null,
      "outputs": []
    },
    {
      "cell_type": "code",
      "source": [
        "from transformers import pipeline\n",
        "\n",
        "summarizer = pipeline(\"summarization\", model=\"facebook/bart-large-cnn\")\n",
        "\n",
        "ARTICLE = \"\"\"Test effectiveness refers to the capability of a test suite in exposing faults in software. It is crucial to be\n",
        "aware of factors that influence this capability. We aim at inferring the causal relationship between the two\n",
        "factors (i.e., Cover/Exec) and the capability of a test suite to expose and discover faults in software. Cover\n",
        "refers to the number of distinct test cases covering the statement and Exec equals the number of times\n",
        "a test suite executes a statement. We analyzed 459166 software faults from 12 Java programs. Bayesian\n",
        "statistics along with the back-door criterion was exploited for the purpose of causal inference. Furthermore,\n",
        "we examined the common pitfall measuring association, the mixture of causal and noncausal relationships,\n",
        "instead of causal association. The results show that Cover is of more causal association as against Exec, and\n",
        "the causal association and noncausal one for those variables are statistically different. Software developers\n",
        "could exploit the results to design and write more effective test cases, which lead to discovering more bugs\n",
        "hidden in software.\n",
        "\"\"\"\n",
        "print(summarizer(ARTICLE, max_length=130, min_length=30, do_sample=False))"
      ],
      "metadata": {
        "id": "owJpp3BecpR7"
      },
      "execution_count": null,
      "outputs": []
    }
  ]
}