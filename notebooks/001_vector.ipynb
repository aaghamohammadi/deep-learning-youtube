{
  "nbformat": 4,
  "nbformat_minor": 0,
  "metadata": {
    "colab": {
      "provenance": []
    },
    "kernelspec": {
      "name": "python3",
      "display_name": "Python 3"
    },
    "language_info": {
      "name": "python"
    }
  },
  "cells": [
    {
      "cell_type": "markdown",
      "source": [
        "Informally, vectors have two properties:\n",
        "* The sum of two vectors results in another vector.\n",
        "* When a vector is multiplied by a scalar, the result is also a vector."
      ],
      "metadata": {
        "id": "rNVeufQN5TcP"
      }
    },
    {
      "cell_type": "code",
      "source": [
        "import tensorflow as tf\n",
        "\n",
        "tf.__version__"
      ],
      "metadata": {
        "id": "83jKl_l278Fv"
      },
      "execution_count": null,
      "outputs": []
    },
    {
      "cell_type": "code",
      "source": [
        "u = tf.constant([1, 7])\n",
        "v = tf.constant([5, 2])\n",
        "\n",
        "# The sum of two vectors results in another vector\n",
        "print(u + v)\n",
        "\n",
        "# When a vector is multiplied by a scaler, the result is also a vector\n",
        "print(tf.constant(4) * v)"
      ],
      "metadata": {
        "id": "ohXiEF4p7VGm"
      },
      "execution_count": null,
      "outputs": []
    },
    {
      "cell_type": "markdown",
      "source": [
        "A vector can be seen as an n-tuple of numbers, e.g.,$$\\mathbf{x} \\in \\mathbb{R}^n$$"
      ],
      "metadata": {
        "id": "j-MxGc7gaCBA"
      }
    },
    {
      "cell_type": "code",
      "source": [
        "x = tf.constant([5, 2, 3, 10, -4])\n",
        "x"
      ],
      "metadata": {
        "id": "mfh09XC1bUFm"
      },
      "execution_count": null,
      "outputs": []
    },
    {
      "cell_type": "markdown",
      "source": [
        "✍ Model an apartment with 3 bedrooms, 2 bathrooms, 211 $m^2$, that includes parking, and is priced at $4,000 per month for rent, using a vector."
      ],
      "metadata": {
        "id": "8uRWbxL1dEpe"
      }
    },
    {
      "cell_type": "code",
      "source": [
        "tf.constant([3, 2, 211, 1, 4000])"
      ],
      "metadata": {
        "id": "w7P9shYzd6L0"
      },
      "execution_count": null,
      "outputs": []
    }
  ]
}