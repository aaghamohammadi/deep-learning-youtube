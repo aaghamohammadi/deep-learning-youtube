{
 "cells": [
  {
   "cell_type": "code",
   "execution_count": null,
   "metadata": {},
   "outputs": [],
   "source": [
    "import tensorflow as tf \n",
    "from tensorflow.keras.callbacks import ReduceLROnPlateau, EarlyStopping\n",
    "import matplotlib.pyplot as plt"
   ]
  },
  {
   "cell_type": "code",
   "execution_count": null,
   "metadata": {
    "colab": {
     "base_uri": "https://localhost:8080/",
     "height": 391
    },
    "id": "lp8ZVdVKUBCa",
    "outputId": "ef9b1685-7758-4b7b-8278-90fda526a3eb"
   },
   "outputs": [],
   "source": [
    "(X_train, y_train), (X_test, y_test) = tf.keras.datasets.cifar10.load_data()\n",
    "assert X_train.shape == (50000, 32, 32, 3)\n",
    "assert X_test.shape == (10000, 32, 32, 3)\n",
    "assert y_train.shape == (50000, 1)\n",
    "assert y_test.shape == (10000, 1)"
   ]
  },
  {
   "cell_type": "code",
   "execution_count": null,
   "metadata": {
    "id": "Px0jrrEaV2Uk"
   },
   "outputs": [],
   "source": [
    "# Convert the data to TensorFlow Datasets\n",
    "train_ds = tf.data.Dataset.from_tensor_slices((X_train, y_train))\n",
    "test_ds = tf.data.Dataset.from_tensor_slices((X_test, y_test))\n",
    "\n",
    "# Data augmentation function\n",
    "def augment(image, label):\n",
    "    image = tf.image.random_flip_left_right(image)\n",
    "    image = tf.image.random_brightness(image, max_delta=0.2)\n",
    "    image = tf.image.random_contrast(image, lower=0.8, upper=1.2)\n",
    "    image = tf.image.random_saturation(image, lower=0.8, upper=1.2)\n",
    "    image = tf.image.random_hue(image, max_delta=0.2)\n",
    "    return image, label\n",
    "\n",
    "# Preprocessing function\n",
    "def preprocess(image, label):\n",
    "    image = tf.cast(image, tf.float32)\n",
    "    image = (image / 127.5) - 1\n",
    "    image = tf.image.resize(image, (227,227))\n",
    "    return image, label\n",
    "\n",
    "# Dataset preparation function with augmentation option\n",
    "def prepare_dataset(ds, batch_size=100, augment_data=False):\n",
    "    if augment_data:\n",
    "        ds = ds.map(augment, num_parallel_calls=tf.data.experimental.AUTOTUNE)\n",
    "    ds = ds.map(preprocess, num_parallel_calls=tf.data.experimental.AUTOTUNE)\n",
    "    ds = ds.shuffle(buffer_size=10000).batch(batch_size)\n",
    "    ds = ds.prefetch(buffer_size=tf.data.experimental.AUTOTUNE)\n",
    "    return ds\n",
    "\n",
    "# Preprocess the data\n",
    "train_ds = prepare_dataset(train_ds, augment_data=True)\n",
    "test_ds = prepare_dataset(test_ds, augment_data=False)"
   ]
  },
  {
   "cell_type": "markdown",
   "metadata": {},
   "source": [
    "We are going to implement AlexNet, a popular CNN architecture introduced in the paper titled \"ImageNet Classification with Deep Convolutional Neural Networks\".\n",
    "\n",
    "The image below is adopted from <a href=\"https://media5.datahacker.rs/2018/11/alexnet_ispravljeno-1920x877.png\">datahacker.rs</a>"
   ]
  },
  {
   "cell_type": "markdown",
   "metadata": {},
   "source": [
    "<img src=\"images/031_alexnet.png\" width=1200 />"
   ]
  },
  {
   "cell_type": "code",
   "execution_count": null,
   "metadata": {
    "id": "ndLANVsQUWMB"
   },
   "outputs": [],
   "source": [
    "model = tf.keras.models.Sequential(\n",
    "    [\n",
    "        tf.keras.layers.Conv2D(filters=96, kernel_size=(11, 11), strides=(4, 4), activation=\"relu\", kernel_initializer=\"he_normal\", input_shape=(227, 227, 3)),\n",
    "        tf.keras.layers.MaxPool2D(pool_size=(3, 3), strides=(2, 2)),\n",
    "        tf.keras.layers.Conv2D(filters=256, kernel_size=(5, 5), strides=(1, 1), activation=\"relu\", kernel_initializer=\"he_normal\", padding=\"same\"),\n",
    "        tf.keras.layers.MaxPool2D(pool_size=(3, 3), strides=(2, 2)),\n",
    "        tf.keras.layers.Conv2D(filters=384, kernel_size=(3, 3), strides=(1, 1), activation=\"relu\", kernel_initializer=\"he_normal\", padding=\"same\"),\n",
    "        tf.keras.layers.Conv2D(filters=384, kernel_size=(3, 3), strides=(1, 1), activation=\"relu\", kernel_initializer=\"he_normal\", padding=\"same\"),\n",
    "        tf.keras.layers.Conv2D(filters=256, kernel_size=(3, 3), strides=(1, 1), activation=\"relu\", kernel_initializer=\"he_normal\", padding=\"same\"),\n",
    "        tf.keras.layers.MaxPool2D(pool_size=(3, 3), strides=(2, 2)),\n",
    "        tf.keras.layers.Flatten(),\n",
    "        tf.keras.layers.Dense(4096, activation=\"relu\", kernel_initializer=\"he_normal\"),\n",
    "        tf.keras.layers.Dropout(0.5),\n",
    "        tf.keras.layers.Dense(4096, activation=\"relu\", kernel_initializer=\"he_normal\"),\n",
    "        tf.keras.layers.Dropout(0.5),\n",
    "        tf.keras.layers.Dense(10, activation=\"softmax\"),\n",
    "    ]\n",
    ")\n",
    "# Compile the model\n",
    "model.compile(\n",
    "    optimizer=tf.keras.optimizers.SGD(momentum=0.9, learning_rate=0.01, nesterov=True),\n",
    "    loss=tf.keras.losses.SparseCategoricalCrossentropy(),\n",
    "    metrics=[\"accuracy\"],\n",
    ")"
   ]
  },
  {
   "cell_type": "code",
   "execution_count": null,
   "metadata": {
    "colab": {
     "base_uri": "https://localhost:8080/"
    },
    "id": "S4-8VhizMd9q",
    "outputId": "6a2e8b66-3371-4582-8906-c8ac7231be77"
   },
   "outputs": [],
   "source": [
    "model.summary()"
   ]
  },
  {
   "cell_type": "code",
   "execution_count": null,
   "metadata": {
    "colab": {
     "base_uri": "https://localhost:8080/"
    },
    "id": "l7liaJvcMcCb",
    "outputId": "4bf9f124-e022-43f8-90ee-426e17fc5b60"
   },
   "outputs": [],
   "source": [
    "reduce_lr = ReduceLROnPlateau(\n",
    "    monitor=\"val_accuracy\", factor=0.2, patience=5, min_lr=0.001\n",
    ")\n",
    "early_stopping = EarlyStopping(\n",
    "    monitor=\"val_accuracy\", patience=15, restore_best_weights=True\n",
    ")\n",
    "callbacks = [early_stopping, reduce_lr]\n",
    "\n",
    "# Train the model\n",
    "history = model.fit(\n",
    "    train_ds, epochs=100, validation_data=test_ds, batch_size=100, callbacks=callbacks\n",
    ")"
   ]
  },
  {
   "cell_type": "code",
   "execution_count": null,
   "metadata": {},
   "outputs": [],
   "source": [
    "plt.figure(figsize=(12, 4))\n",
    "plt.subplot(1, 2, 1)\n",
    "plt.plot(history.history['accuracy'])\n",
    "plt.plot(history.history['val_accuracy'])\n",
    "plt.title('Model accuracy')\n",
    "plt.ylabel('Accuracy')\n",
    "plt.xlabel('Epoch')\n",
    "plt.legend(['Train', 'Test'], loc='upper left')\n",
    "\n",
    "plt.subplot(1, 2, 2)\n",
    "plt.plot(history.history['loss'])\n",
    "plt.plot(history.history['val_loss'])\n",
    "plt.title('Model loss')\n",
    "plt.ylabel('Loss')\n",
    "plt.xlabel('Epoch')\n",
    "plt.legend(['Train', 'Test'], loc='upper left')\n",
    "\n",
    "plt.tight_layout()\n",
    "plt.show()"
   ]
  }
 ],
 "metadata": {
  "accelerator": "GPU",
  "colab": {
   "gpuType": "T4",
   "provenance": []
  },
  "kernelspec": {
   "display_name": "Python 3 (ipykernel)",
   "language": "python",
   "name": "python3"
  },
  "language_info": {
   "codemirror_mode": {
    "name": "ipython",
    "version": 3
   },
   "file_extension": ".py",
   "mimetype": "text/x-python",
   "name": "python",
   "nbconvert_exporter": "python",
   "pygments_lexer": "ipython3",
   "version": "3.11.0rc1"
  }
 },
 "nbformat": 4,
 "nbformat_minor": 4
}
