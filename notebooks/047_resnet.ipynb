{
  "nbformat": 4,
  "nbformat_minor": 0,
  "metadata": {
    "colab": {
      "provenance": [],
      "gpuType": "T4"
    },
    "kernelspec": {
      "name": "python3",
      "display_name": "Python 3"
    },
    "language_info": {
      "name": "python"
    },
    "accelerator": "GPU"
  },
  "cells": [
    {
      "cell_type": "code",
      "source": [
        "import tensorflow as tf\n",
        "from tensorflow.keras.callbacks import ReduceLROnPlateau, EarlyStopping\n",
        "import matplotlib.pyplot as plt"
      ],
      "metadata": {
        "id": "3kfDeQjfUMII"
      },
      "execution_count": null,
      "outputs": []
    },
    {
      "cell_type": "code",
      "execution_count": null,
      "metadata": {
        "id": "lp8ZVdVKUBCa"
      },
      "outputs": [],
      "source": [
        "(X_train, y_train), (X_test, y_test) = tf.keras.datasets.cifar10.load_data()\n",
        "assert X_train.shape == (50000, 32, 32, 3)\n",
        "assert X_test.shape == (10000, 32, 32, 3)\n",
        "assert y_train.shape == (50000, 1)\n",
        "assert y_test.shape == (10000, 1)"
      ]
    },
    {
      "cell_type": "code",
      "source": [
        "# Convert the data to TensorFlow Datasets\n",
        "train_ds = tf.data.Dataset.from_tensor_slices((X_train, y_train))\n",
        "test_ds = tf.data.Dataset.from_tensor_slices((X_test, y_test))\n",
        "\n",
        "# Preprocessing function\n",
        "def preprocess(image, label):\n",
        "    image = tf.cast(image, tf.float32)\n",
        "    image = (image / 255.0)\n",
        "    return image, label\n",
        "\n",
        "# Dataset preparation function with augmentation option\n",
        "def prepare_dataset(ds, batch_size=20):\n",
        "    ds = ds.map(preprocess, num_parallel_calls=tf.data.experimental.AUTOTUNE)\n",
        "    ds = ds.shuffle(buffer_size=10000).batch(batch_size)\n",
        "    ds = ds.prefetch(buffer_size=tf.data.experimental.AUTOTUNE)\n",
        "    return ds\n",
        "\n",
        "# Preprocess the data\n",
        "train_ds = prepare_dataset(train_ds)\n",
        "test_ds = prepare_dataset(test_ds)"
      ],
      "metadata": {
        "id": "Px0jrrEaV2Uk"
      },
      "execution_count": null,
      "outputs": []
    },
    {
      "cell_type": "code",
      "source": [
        "# Define the input layer\n",
        "inputs = tf.keras.layers.Input(shape=(32,32,3), name=\"input_layer\")\n",
        "\n",
        "# Resize the images to the size expected by ResNet\n",
        "resize = tf.keras.layers.UpSampling2D(size=(7,7), name=\"resize_layer\")(inputs)\n",
        "\n",
        "# Load the ResNet50 model with pre-trained ImageNet weights\n",
        "feature_extractor = tf.keras.applications.ResNet50(input_shape=(224, 224, 3),\n",
        "                                                   include_top=False,\n",
        "                                                   weights='imagenet'\n",
        "                                                   )(resize)\n",
        "\n",
        "# Add the classification layers\n",
        "x = tf.keras.layers.GlobalAveragePooling2D(name=\"global_avg_pool_layer\")(feature_extractor)\n",
        "x = tf.keras.layers.Flatten(name=\"flatten_layer\")(x)\n",
        "x = tf.keras.layers.Dense(1024, activation=\"relu\", name=\"dense_layer_1\", kernel_initializer=\"he_normal\")(x)\n",
        "x = tf.keras.layers.Dense(512, activation=\"relu\", name=\"dense_layer_2\", kernel_initializer=\"he_normal\")(x)\n",
        "classification_output = tf.keras.layers.Dense(10, activation=\"softmax\", name=\"output_layer\")(x)\n",
        "\n",
        "# Define the model\n",
        "model = tf.keras.Model(inputs=inputs, outputs=classification_output, name=\"my_model\")\n",
        "\n",
        "# Compile the model\n",
        "model.compile(optimizer=tf.keras.optimizers.Adam(),\n",
        "              loss=tf.keras.losses.SparseCategoricalCrossentropy(),\n",
        "              metrics=['accuracy'])\n",
        "\n",
        "# Print the model summary\n",
        "model.summary()"
      ],
      "metadata": {
        "id": "ndLANVsQUWMB"
      },
      "execution_count": null,
      "outputs": []
    },
    {
      "cell_type": "code",
      "source": [
        "# Print the summary of the ResNet50 model\n",
        "model.layers[2].summary()\n",
        "\n",
        "# If you want to visualize a specific layer\n",
        "layer_names = [layer.name for layer in model.layers[2].layers]\n",
        "print(layer_names)"
      ],
      "metadata": {
        "id": "HtxXkf6-1fE4"
      },
      "execution_count": null,
      "outputs": []
    },
    {
      "cell_type": "code",
      "source": [
        "reduce_lr = ReduceLROnPlateau(\n",
        "    monitor=\"val_accuracy\", factor=0.2, patience=3, min_lr=0.00001\n",
        ")\n",
        "early_stopping = EarlyStopping(\n",
        "    monitor=\"val_accuracy\", patience=5, restore_best_weights=True\n",
        ")\n",
        "callbacks = [early_stopping, reduce_lr]\n",
        "\n",
        "# Train the model\n",
        "history = model.fit(\n",
        "    train_ds, epochs=5, validation_data=test_ds, batch_size=128, callbacks=callbacks\n",
        ")"
      ],
      "metadata": {
        "id": "l7liaJvcMcCb"
      },
      "execution_count": null,
      "outputs": []
    },
    {
      "cell_type": "code",
      "source": [
        "# Plot training & validation accuracy values\n",
        "plt.figure(figsize=(12, 4))\n",
        "plt.subplot(1, 2, 1)\n",
        "plt.plot(history.history['accuracy'])\n",
        "plt.plot(history.history['val_accuracy'])\n",
        "plt.title('Model accuracy')\n",
        "plt.ylabel('Accuracy')\n",
        "plt.xlabel('Epoch')\n",
        "plt.legend(['Train', 'Test'], loc='upper left')\n",
        "\n",
        "# Plot training & validation loss values\n",
        "plt.subplot(1, 2, 2)\n",
        "plt.plot(history.history['loss'])\n",
        "plt.plot(history.history['val_loss'])\n",
        "plt.title('Model loss')\n",
        "plt.ylabel('Loss')\n",
        "plt.xlabel('Epoch')\n",
        "plt.legend(['Train', 'Test'], loc='upper left')\n",
        "\n",
        "plt.tight_layout()\n",
        "plt.show()"
      ],
      "metadata": {
        "id": "AQGT41TdY7lQ"
      },
      "execution_count": null,
      "outputs": []
    }
  ]
}