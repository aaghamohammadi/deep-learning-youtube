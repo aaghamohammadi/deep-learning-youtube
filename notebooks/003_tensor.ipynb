{
  "nbformat": 4,
  "nbformat_minor": 0,
  "metadata": {
    "colab": {
      "provenance": []
    },
    "kernelspec": {
      "name": "python3",
      "display_name": "Python 3"
    },
    "language_info": {
      "name": "python"
    }
  },
  "cells": [
    {
      "cell_type": "markdown",
      "source": [
        "We've discussed the first three of the following, and now it's time to talk about tensors in general.\n",
        "\n",
        "* Scalar\n",
        "* Vector\n",
        "* Matrix\n",
        "* Tensor"
      ],
      "metadata": {
        "id": "Yj3t57j--LJW"
      }
    },
    {
      "cell_type": "markdown",
      "source": [
        "A scalar can be seen as a rank zero tensor."
      ],
      "metadata": {
        "id": "6EhG6hgs_PEW"
      }
    },
    {
      "cell_type": "code",
      "execution_count": null,
      "metadata": {
        "colab": {
          "base_uri": "https://localhost:8080/"
        },
        "id": "7DmLFSDp9-su",
        "outputId": "f9cac5de-4685-4c6d-ece5-38b611be9622"
      },
      "outputs": [
        {
          "output_type": "stream",
          "name": "stdout",
          "text": [
            "tf.Tensor(4, shape=(), dtype=int32)\n",
            "0\n"
          ]
        }
      ],
      "source": [
        "import tensorflow as tf\n",
        "\n",
        "x = tf.constant(4)\n",
        "print(x)\n",
        "print(x.ndim)"
      ]
    },
    {
      "cell_type": "markdown",
      "source": [
        "On the other hand, a vector can be viewed as a rank one tensor, which means it has one dimension."
      ],
      "metadata": {
        "id": "umZhjfx0_wpA"
      }
    },
    {
      "cell_type": "code",
      "source": [
        "y = tf.constant([3, 2, 7])\n",
        "print(y)\n",
        "print(y.ndim)"
      ],
      "metadata": {
        "colab": {
          "base_uri": "https://localhost:8080/"
        },
        "id": "cLBUYR9i_YHR",
        "outputId": "c6f48bbc-53a5-4f12-dcb9-1583fdf6a5fe"
      },
      "execution_count": null,
      "outputs": [
        {
          "output_type": "stream",
          "name": "stdout",
          "text": [
            "tf.Tensor([3 2 7], shape=(3,), dtype=int32)\n",
            "1\n"
          ]
        }
      ]
    },
    {
      "cell_type": "markdown",
      "source": [
        "A matrix is a rank two tensor. It has two dimensions. For example, a matrix A of size m by n has m rows and n columns."
      ],
      "metadata": {
        "id": "OWuyI-I9AMeS"
      }
    },
    {
      "cell_type": "code",
      "source": [
        "A = tf.constant([[1, 2, 3],\n",
        "                 [4, 5, 6]])\n",
        "print(A)\n",
        "print(A.ndim)"
      ],
      "metadata": {
        "colab": {
          "base_uri": "https://localhost:8080/"
        },
        "id": "t7tWfY4jAWg9",
        "outputId": "b187fad9-b66b-48c7-a379-d584476cc058"
      },
      "execution_count": null,
      "outputs": [
        {
          "output_type": "stream",
          "name": "stdout",
          "text": [
            "tf.Tensor(\n",
            "[[1 2 3]\n",
            " [4 5 6]], shape=(2, 3), dtype=int32)\n",
            "2\n"
          ]
        }
      ]
    },
    {
      "cell_type": "markdown",
      "source": [
        "This concept can be extended to tensors. For instance, a tensor could have three dimensions (known as a rank three tensor), four dimensions (known as a rank four tensor), or any number of dimensions (referred to as a rank n tensor)."
      ],
      "metadata": {
        "id": "Ld749bAaArxn"
      }
    },
    {
      "cell_type": "code",
      "source": [
        "B = tf.linspace(1, 60, 60)\n",
        "tf.reshape(B, shape=(5, 2, 6))"
      ],
      "metadata": {
        "colab": {
          "base_uri": "https://localhost:8080/"
        },
        "id": "ou84xoqSAcMo",
        "outputId": "1755ed08-1d9f-4c6e-de3e-db8a46008ea6"
      },
      "execution_count": null,
      "outputs": [
        {
          "output_type": "execute_result",
          "data": {
            "text/plain": [
              "<tf.Tensor: shape=(5, 2, 6), dtype=float64, numpy=\n",
              "array([[[ 1.,  2.,  3.,  4.,  5.,  6.],\n",
              "        [ 7.,  8.,  9., 10., 11., 12.]],\n",
              "\n",
              "       [[13., 14., 15., 16., 17., 18.],\n",
              "        [19., 20., 21., 22., 23., 24.]],\n",
              "\n",
              "       [[25., 26., 27., 28., 29., 30.],\n",
              "        [31., 32., 33., 34., 35., 36.]],\n",
              "\n",
              "       [[37., 38., 39., 40., 41., 42.],\n",
              "        [43., 44., 45., 46., 47., 48.]],\n",
              "\n",
              "       [[49., 50., 51., 52., 53., 54.],\n",
              "        [55., 56., 57., 58., 59., 60.]]])>"
            ]
          },
          "metadata": {},
          "execution_count": 15
        }
      ]
    },
    {
      "cell_type": "code",
      "source": [
        "C = tf.linspace(1, 60, 60)\n",
        "tf.reshape(C, shape=(5, 2, 2, 3))"
      ],
      "metadata": {
        "colab": {
          "base_uri": "https://localhost:8080/"
        },
        "id": "pu3EXsYABFXw",
        "outputId": "306a5aa2-d976-4011-936c-e8c5a4b5f39d"
      },
      "execution_count": null,
      "outputs": [
        {
          "output_type": "execute_result",
          "data": {
            "text/plain": [
              "<tf.Tensor: shape=(5, 2, 2, 3), dtype=float64, numpy=\n",
              "array([[[[ 1.,  2.,  3.],\n",
              "         [ 4.,  5.,  6.]],\n",
              "\n",
              "        [[ 7.,  8.,  9.],\n",
              "         [10., 11., 12.]]],\n",
              "\n",
              "\n",
              "       [[[13., 14., 15.],\n",
              "         [16., 17., 18.]],\n",
              "\n",
              "        [[19., 20., 21.],\n",
              "         [22., 23., 24.]]],\n",
              "\n",
              "\n",
              "       [[[25., 26., 27.],\n",
              "         [28., 29., 30.]],\n",
              "\n",
              "        [[31., 32., 33.],\n",
              "         [34., 35., 36.]]],\n",
              "\n",
              "\n",
              "       [[[37., 38., 39.],\n",
              "         [40., 41., 42.]],\n",
              "\n",
              "        [[43., 44., 45.],\n",
              "         [46., 47., 48.]]],\n",
              "\n",
              "\n",
              "       [[[49., 50., 51.],\n",
              "         [52., 53., 54.]],\n",
              "\n",
              "        [[55., 56., 57.],\n",
              "         [58., 59., 60.]]]])>"
            ]
          },
          "metadata": {},
          "execution_count": 14
        }
      ]
    }
  ]
}